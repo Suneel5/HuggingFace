{
  "cells": [
    {
      "cell_type": "code",
      "execution_count": 1,
      "metadata": {
        "colab": {
          "base_uri": "https://localhost:8080/",
          "height": 203
        },
        "id": "awPXefiYqQsF",
        "outputId": "be602c63-f5c0-4276-b33c-ad0808258677"
      },
      "outputs": [
        {
          "data": {
            "text/html": [
              "<div>\n",
              "<style scoped>\n",
              "    .dataframe tbody tr th:only-of-type {\n",
              "        vertical-align: middle;\n",
              "    }\n",
              "\n",
              "    .dataframe tbody tr th {\n",
              "        vertical-align: top;\n",
              "    }\n",
              "\n",
              "    .dataframe thead th {\n",
              "        text-align: right;\n",
              "    }\n",
              "</style>\n",
              "<table border=\"1\" class=\"dataframe\">\n",
              "  <thead>\n",
              "    <tr style=\"text-align: right;\">\n",
              "      <th></th>\n",
              "      <th>target</th>\n",
              "      <th>transformed_tweet</th>\n",
              "    </tr>\n",
              "  </thead>\n",
              "  <tbody>\n",
              "    <tr>\n",
              "      <th>0</th>\n",
              "      <td>0</td>\n",
              "      <td>switchfoot http twitpic com zl awww bummer sho...</td>\n",
              "    </tr>\n",
              "    <tr>\n",
              "      <th>1</th>\n",
              "      <td>0</td>\n",
              "      <td>upset updat facebook text might cri result sch...</td>\n",
              "    </tr>\n",
              "    <tr>\n",
              "      <th>2</th>\n",
              "      <td>0</td>\n",
              "      <td>kenichan dive mani time ball manag save rest g...</td>\n",
              "    </tr>\n",
              "    <tr>\n",
              "      <th>3</th>\n",
              "      <td>0</td>\n",
              "      <td>whole bodi feel itchi like fire</td>\n",
              "    </tr>\n",
              "    <tr>\n",
              "      <th>4</th>\n",
              "      <td>0</td>\n",
              "      <td>nationwideclass behav mad see</td>\n",
              "    </tr>\n",
              "  </tbody>\n",
              "</table>\n",
              "</div>"
            ],
            "text/plain": [
              "   target                                  transformed_tweet\n",
              "0       0  switchfoot http twitpic com zl awww bummer sho...\n",
              "1       0  upset updat facebook text might cri result sch...\n",
              "2       0  kenichan dive mani time ball manag save rest g...\n",
              "3       0                    whole bodi feel itchi like fire\n",
              "4       0                      nationwideclass behav mad see"
            ]
          },
          "execution_count": 1,
          "metadata": {},
          "output_type": "execute_result"
        }
      ],
      "source": [
        "import pandas as pd\n",
        "df=pd.read_csv(r'D:\\Data/sentiment_cleaned_data.csv',encoding='latin-1')\n",
        "df=df.drop(columns=['Unnamed: 0','length'])\n",
        "df.head()"
      ]
    },
    {
      "cell_type": "code",
      "execution_count": 2,
      "metadata": {
        "colab": {
          "base_uri": "https://localhost:8080/"
        },
        "id": "oANCBt_0q22q",
        "outputId": "ec856094-7238-482f-e533-72a7413fa0cc"
      },
      "outputs": [
        {
          "data": {
            "text/plain": [
              "(1599505, 2)"
            ]
          },
          "execution_count": 2,
          "metadata": {},
          "output_type": "execute_result"
        }
      ],
      "source": [
        "df.shape"
      ]
    },
    {
      "cell_type": "code",
      "execution_count": 3,
      "metadata": {},
      "outputs": [],
      "source": [
        "df=df.sample(200000)"
      ]
    },
    {
      "cell_type": "code",
      "execution_count": 4,
      "metadata": {
        "id": "EsvEwG98qq2b"
      },
      "outputs": [],
      "source": [
        "X=list(df['transformed_tweet'])"
      ]
    },
    {
      "cell_type": "code",
      "execution_count": 5,
      "metadata": {
        "id": "6bJRCocDrFvE"
      },
      "outputs": [],
      "source": [
        "y=list(df['target'])"
      ]
    },
    {
      "cell_type": "code",
      "execution_count": 6,
      "metadata": {
        "id": "aZpBn3MtssZL"
      },
      "outputs": [],
      "source": [
        "# y=list(pd.get_dummies(y,drop_first=True)['spam'])"
      ]
    },
    {
      "cell_type": "code",
      "execution_count": 7,
      "metadata": {
        "id": "dLFDWda0rIKw"
      },
      "outputs": [],
      "source": [
        "from sklearn.model_selection import train_test_split\n",
        "X_train, X_test, y_train, y_test = train_test_split(X, y, test_size = 0.30, random_state = 42)\n",
        "X_train,X_val,y_train,y_val=train_test_split(X_train,y_train,test_size = 0.30, random_state = 42)"
      ]
    },
    {
      "cell_type": "code",
      "execution_count": 8,
      "metadata": {},
      "outputs": [
        {
          "data": {
            "text/plain": [
              "(60000,)"
            ]
          },
          "execution_count": 8,
          "metadata": {},
          "output_type": "execute_result"
        }
      ],
      "source": [
        "import numpy as np\n",
        "np.array(y_test).shape"
      ]
    },
    {
      "cell_type": "code",
      "execution_count": 9,
      "metadata": {
        "colab": {
          "base_uri": "https://localhost:8080/",
          "height": 164,
          "referenced_widgets": [
            "7601adb4afb447cb99a697c0a5b95fa5",
            "6ec38c7691be44b4913d6d5e0f76603c",
            "3e20c2e2e90f4b7a8834061ddc521147",
            "bcad867ad46544d980cf600dfc4bd772",
            "dfd3a1dea41c4cc59091f8a205c9a622",
            "c5e03a3d8b16402a91bc7abbb1a32509",
            "e5b1d41caae5454a958e7341e74bd3f0",
            "c28b1cff8e334240b14dec1137dd814b",
            "d80d5f04f004404c97502df6ccc5ec89",
            "d40dbc875ca547edb0d09a07e3a84d26",
            "ae9b502b1b9f4e13ad6e7dc448b02e88",
            "2decd5779ade414d8680c5c5a48ea2ab",
            "b77b13cf1c7b4ad08c49d88a8808c2a2",
            "7de05784ffcf4f0aae1ee7e12e0fa269",
            "4b41472cec6146998f610e6d50f0c3d9",
            "04d8795812be4b838a3cbe0c3ffa6213",
            "33dde4a7859c48e1b28a972cbb66f168",
            "15912398841a42768b19ba8b000cd33d",
            "19c1ff45659147d6a6c73701cd04a457",
            "92533d2577d04fd3a606f5bbfebe997f",
            "1c6f95ef82774b918e8873427f431732",
            "079c262a15c34ee499cc7aab01e4f63d",
            "83e99b57d4884605b2cfde2c29981535",
            "8c2a09d3aec44b6db0a667d9786ec86b"
          ]
        },
        "id": "bcNEJ6perOSs",
        "outputId": "7033fc24-6f52-4c18-9e6a-6192e6727ac8"
      },
      "outputs": [
        {
          "name": "stderr",
          "output_type": "stream",
          "text": [
            "c:\\Users\\sunne\\anaconda3\\envs\\tfgpu\\lib\\site-packages\\tqdm\\auto.py:21: TqdmWarning: IProgress not found. Please update jupyter and ipywidgets. See https://ipywidgets.readthedocs.io/en/stable/user_install.html\n",
            "  from .autonotebook import tqdm as notebook_tqdm\n"
          ]
        }
      ],
      "source": [
        "from transformers import DistilBertTokenizerFast\n",
        "tokenizer = DistilBertTokenizerFast.from_pretrained('distilbert-base-uncased')"
      ]
    },
    {
      "cell_type": "code",
      "execution_count": 10,
      "metadata": {
        "id": "-OL3fgLvrXvH"
      },
      "outputs": [],
      "source": [
        "train_encodings = tokenizer(X_train, truncation=True, padding=True,max_length=50)\n",
        "test_encodings = tokenizer(X_test, truncation=True, padding=True)\n",
        "val_encodings=tokenizer(X_val, truncation=True, padding=True)"
      ]
    },
    {
      "cell_type": "code",
      "execution_count": 11,
      "metadata": {},
      "outputs": [
        {
          "data": {
            "text/plain": [
              "(60000, 55)"
            ]
          },
          "execution_count": 11,
          "metadata": {},
          "output_type": "execute_result"
        }
      ],
      "source": [
        "np.array(test_encodings['input_ids']).shape"
      ]
    },
    {
      "cell_type": "code",
      "execution_count": 12,
      "metadata": {
        "id": "9B42CTCnrrEx"
      },
      "outputs": [],
      "source": [
        "import tensorflow as tf\n",
        "\n",
        "train_dataset = tf.data.Dataset.from_tensor_slices((\n",
        "    dict(train_encodings),\n",
        "    y_train\n",
        "))\n",
        "\n",
        "test_dataset = tf.data.Dataset.from_tensor_slices((\n",
        "    dict(test_encodings),\n",
        "    y_test\n",
        "))\n",
        "val_dataset = tf.data.Dataset.from_tensor_slices((\n",
        "    dict(val_encodings),\n",
        "    y_val\n",
        "))"
      ]
    },
    {
      "cell_type": "code",
      "execution_count": 13,
      "metadata": {
        "id": "NH1dupK0rzfn"
      },
      "outputs": [],
      "source": [
        "from transformers import TFDistilBertForSequenceClassification, TFTrainer, TFTrainingArguments\n",
        "\n",
        "training_args = TFTrainingArguments(\n",
        "    output_dir='./results',          # output directory\n",
        "    num_train_epochs=2,              # total number of training epochs\n",
        "    per_device_train_batch_size=2,  # batch size per device during training\n",
        "    per_device_eval_batch_size=4,   # batch size for evaluation\n",
        "    warmup_steps=500,                # number of warmup steps for learning rate scheduler\n",
        "    weight_decay=0.01,               # strength of weight decay\n",
        "    logging_dir='./logs',            # directory for storing logs\n",
        "    logging_steps=10,\n",
        "     eval_steps=100\n",
        ")"
      ]
    },
    {
      "cell_type": "code",
      "execution_count": 14,
      "metadata": {
        "colab": {
          "base_uri": "https://localhost:8080/"
        },
        "id": "PZvTrEcfr7k-",
        "outputId": "a47c5340-4e68-45d7-b7ce-64604fc519f8"
      },
      "outputs": [
        {
          "name": "stderr",
          "output_type": "stream",
          "text": [
            "Some weights of the PyTorch model were not used when initializing the TF 2.0 model TFDistilBertForSequenceClassification: ['vocab_transform.weight', 'vocab_transform.bias', 'vocab_layer_norm.weight', 'vocab_layer_norm.bias', 'vocab_projector.bias']\n",
            "- This IS expected if you are initializing TFDistilBertForSequenceClassification from a PyTorch model trained on another task or with another architecture (e.g. initializing a TFBertForSequenceClassification model from a BertForPreTraining model).\n",
            "- This IS NOT expected if you are initializing TFDistilBertForSequenceClassification from a PyTorch model that you expect to be exactly identical (e.g. initializing a TFBertForSequenceClassification model from a BertForSequenceClassification model).\n",
            "Some weights or buffers of the TF 2.0 model TFDistilBertForSequenceClassification were not initialized from the PyTorch model and are newly initialized: ['pre_classifier.weight', 'pre_classifier.bias', 'classifier.weight', 'classifier.bias']\n",
            "You should probably TRAIN this model on a down-stream task to be able to use it for predictions and inference.\n",
            "c:\\Users\\sunne\\anaconda3\\envs\\tfgpu\\lib\\site-packages\\transformers\\trainer_tf.py:118: FutureWarning: The class `TFTrainer` is deprecated and will be removed in version 5 of Transformers. We recommend using native Keras instead, by calling methods like `fit()` and `predict()` directly on the model object. Detailed examples of the Keras style can be found in our examples at https://github.com/huggingface/transformers/tree/main/examples/tensorflow\n",
            "  warnings.warn(\n"
          ]
        },
        {
          "ename": "UnknownError",
          "evalue": "{{function_node __wrapped__SaveV2_dtypes_318_device_/job:localhost/replica:0/task:0/device:CPU:0}} Failed to WriteFile: ./results\\checkpoint\\ckpt-136_temp/part-00000-of-00001.data-00000-of-00001.tempstate16454293570138759653 : There is not enough space on the disk.\r\n; operation in progress [Op:SaveV2]",
          "output_type": "error",
          "traceback": [
            "\u001b[1;31m---------------------------------------------------------------------------\u001b[0m",
            "\u001b[1;31mUnknownError\u001b[0m                              Traceback (most recent call last)",
            "Cell \u001b[1;32mIn[14], line 12\u001b[0m\n\u001b[0;32m      2\u001b[0m     model \u001b[39m=\u001b[39m TFDistilBertForSequenceClassification\u001b[39m.\u001b[39mfrom_pretrained(\u001b[39m\"\u001b[39m\u001b[39mdistilbert-base-uncased\u001b[39m\u001b[39m\"\u001b[39m)\n\u001b[0;32m      4\u001b[0m trainer \u001b[39m=\u001b[39m TFTrainer(\n\u001b[0;32m      5\u001b[0m     model\u001b[39m=\u001b[39mmodel,                         \u001b[39m# the instantiated 🤗 Transformers model to be trained\u001b[39;00m\n\u001b[0;32m      6\u001b[0m     args\u001b[39m=\u001b[39mtraining_args,                  \u001b[39m# training arguments, defined above\u001b[39;00m\n\u001b[1;32m   (...)\u001b[0m\n\u001b[0;32m      9\u001b[0m    \n\u001b[0;32m     10\u001b[0m )\n\u001b[1;32m---> 12\u001b[0m trainer\u001b[39m.\u001b[39;49mtrain()\n",
            "File \u001b[1;32mc:\\Users\\sunne\\anaconda3\\envs\\tfgpu\\lib\\site-packages\\transformers\\trainer_tf.py:607\u001b[0m, in \u001b[0;36mTFTrainer.train\u001b[1;34m(self)\u001b[0m\n\u001b[0;32m    604\u001b[0m     \u001b[39mself\u001b[39m\u001b[39m.\u001b[39mlog(logs)\n\u001b[0;32m    606\u001b[0m \u001b[39mif\u001b[39;00m \u001b[39mself\u001b[39m\u001b[39m.\u001b[39margs\u001b[39m.\u001b[39msave_steps \u001b[39m>\u001b[39m \u001b[39m0\u001b[39m \u001b[39mand\u001b[39;00m \u001b[39mself\u001b[39m\u001b[39m.\u001b[39mglobal_step \u001b[39m%\u001b[39m \u001b[39mself\u001b[39m\u001b[39m.\u001b[39margs\u001b[39m.\u001b[39msave_steps \u001b[39m==\u001b[39m \u001b[39m0\u001b[39m:\n\u001b[1;32m--> 607\u001b[0m     ckpt_save_path \u001b[39m=\u001b[39m \u001b[39mself\u001b[39;49m\u001b[39m.\u001b[39;49mmodel\u001b[39m.\u001b[39;49mckpt_manager\u001b[39m.\u001b[39;49msave()\n\u001b[0;32m    609\u001b[0m     logger\u001b[39m.\u001b[39minfo(\u001b[39mf\u001b[39m\u001b[39m\"\u001b[39m\u001b[39mSaving checkpoint for step \u001b[39m\u001b[39m{\u001b[39;00m\u001b[39mself\u001b[39m\u001b[39m.\u001b[39mglobal_step\u001b[39m}\u001b[39;00m\u001b[39m at \u001b[39m\u001b[39m{\u001b[39;00mckpt_save_path\u001b[39m}\u001b[39;00m\u001b[39m\"\u001b[39m)\n\u001b[0;32m    611\u001b[0m \u001b[39mif\u001b[39;00m \u001b[39mself\u001b[39m\u001b[39m.\u001b[39margs\u001b[39m.\u001b[39mmax_steps \u001b[39m>\u001b[39m \u001b[39m0\u001b[39m \u001b[39mand\u001b[39;00m \u001b[39mself\u001b[39m\u001b[39m.\u001b[39mglobal_step \u001b[39m>\u001b[39m\u001b[39m=\u001b[39m t_total:\n",
            "File \u001b[1;32mc:\\Users\\sunne\\anaconda3\\envs\\tfgpu\\lib\\site-packages\\tensorflow\\python\\checkpoint\\checkpoint_management.py:817\u001b[0m, in \u001b[0;36mCheckpointManager.save\u001b[1;34m(self, checkpoint_number, check_interval, options)\u001b[0m\n\u001b[0;32m    815\u001b[0m prefix \u001b[39m=\u001b[39m \u001b[39m\"\u001b[39m\u001b[39m%s\u001b[39;00m\u001b[39m-\u001b[39m\u001b[39m%d\u001b[39;00m\u001b[39m\"\u001b[39m \u001b[39m%\u001b[39m (\u001b[39mself\u001b[39m\u001b[39m.\u001b[39m_prefix, checkpoint_number)\n\u001b[0;32m    816\u001b[0m \u001b[39mif\u001b[39;00m options \u001b[39mis\u001b[39;00m \u001b[39mNone\u001b[39;00m:\n\u001b[1;32m--> 817\u001b[0m   save_path \u001b[39m=\u001b[39m \u001b[39mself\u001b[39;49m\u001b[39m.\u001b[39;49m_checkpoint\u001b[39m.\u001b[39;49mwrite(prefix)\n\u001b[0;32m    818\u001b[0m \u001b[39melse\u001b[39;00m:\n\u001b[0;32m    819\u001b[0m   save_path \u001b[39m=\u001b[39m \u001b[39mself\u001b[39m\u001b[39m.\u001b[39m_checkpoint\u001b[39m.\u001b[39mwrite(prefix, options\u001b[39m=\u001b[39moptions)\n",
            "File \u001b[1;32mc:\\Users\\sunne\\anaconda3\\envs\\tfgpu\\lib\\site-packages\\tensorflow\\python\\checkpoint\\checkpoint.py:2237\u001b[0m, in \u001b[0;36mCheckpoint.write\u001b[1;34m(self, file_prefix, options)\u001b[0m\n\u001b[0;32m   2235\u001b[0m \u001b[39mif\u001b[39;00m \u001b[39misinstance\u001b[39m(file_prefix, os\u001b[39m.\u001b[39mPathLike):\n\u001b[0;32m   2236\u001b[0m   file_prefix \u001b[39m=\u001b[39m os\u001b[39m.\u001b[39mfspath(file_prefix)\n\u001b[1;32m-> 2237\u001b[0m \u001b[39mreturn\u001b[39;00m \u001b[39mself\u001b[39;49m\u001b[39m.\u001b[39;49m_write(file_prefix, options)\n",
            "File \u001b[1;32mc:\\Users\\sunne\\anaconda3\\envs\\tfgpu\\lib\\site-packages\\tensorflow\\python\\checkpoint\\checkpoint.py:2256\u001b[0m, in \u001b[0;36mCheckpoint._write\u001b[1;34m(self, file_prefix, options, update_ckpt_state)\u001b[0m\n\u001b[0;32m   2254\u001b[0m start_time \u001b[39m=\u001b[39m time\u001b[39m.\u001b[39mtime()\n\u001b[0;32m   2255\u001b[0m options \u001b[39m=\u001b[39m options \u001b[39mor\u001b[39;00m checkpoint_options\u001b[39m.\u001b[39mCheckpointOptions()\n\u001b[1;32m-> 2256\u001b[0m output \u001b[39m=\u001b[39m \u001b[39mself\u001b[39;49m\u001b[39m.\u001b[39;49m_saver\u001b[39m.\u001b[39;49msave(\n\u001b[0;32m   2257\u001b[0m     file_prefix\u001b[39m=\u001b[39;49mfile_prefix,\n\u001b[0;32m   2258\u001b[0m     options\u001b[39m=\u001b[39;49moptions,\n\u001b[0;32m   2259\u001b[0m     update_ckpt_state\u001b[39m=\u001b[39;49mupdate_ckpt_state)\n\u001b[0;32m   2260\u001b[0m end_time \u001b[39m=\u001b[39m time\u001b[39m.\u001b[39mtime()\n\u001b[0;32m   2262\u001b[0m metrics\u001b[39m.\u001b[39mAddCheckpointWriteDuration(\n\u001b[0;32m   2263\u001b[0m     api_label\u001b[39m=\u001b[39m_CHECKPOINT_V2,\n\u001b[0;32m   2264\u001b[0m     microseconds\u001b[39m=\u001b[39m_get_duration_microseconds(start_time, end_time))\n",
            "File \u001b[1;32mc:\\Users\\sunne\\anaconda3\\envs\\tfgpu\\lib\\site-packages\\tensorflow\\python\\checkpoint\\checkpoint.py:1351\u001b[0m, in \u001b[0;36mTrackableSaver.save\u001b[1;34m(self, file_prefix, checkpoint_number, session, options, update_ckpt_state)\u001b[0m\n\u001b[0;32m   1348\u001b[0m \u001b[39mif\u001b[39;00m \u001b[39mnot\u001b[39;00m tensor_util\u001b[39m.\u001b[39mis_tensor(file_prefix):\n\u001b[0;32m   1349\u001b[0m   file_io\u001b[39m.\u001b[39mrecursive_create_dir(os\u001b[39m.\u001b[39mpath\u001b[39m.\u001b[39mdirname(file_prefix))\n\u001b[1;32m-> 1351\u001b[0m save_path, new_feed_additions \u001b[39m=\u001b[39m \u001b[39mself\u001b[39;49m\u001b[39m.\u001b[39;49m_save_cached_when_graph_building(\n\u001b[0;32m   1352\u001b[0m     file_prefix_tensor, object_graph_tensor, options, update_ckpt_state)\n\u001b[0;32m   1354\u001b[0m \u001b[39mif\u001b[39;00m new_feed_additions:\n\u001b[0;32m   1355\u001b[0m   feed_dict\u001b[39m.\u001b[39mupdate(new_feed_additions)\n",
            "File \u001b[1;32mc:\\Users\\sunne\\anaconda3\\envs\\tfgpu\\lib\\site-packages\\tensorflow\\python\\checkpoint\\checkpoint.py:1296\u001b[0m, in \u001b[0;36mTrackableSaver._save_cached_when_graph_building\u001b[1;34m(self, file_prefix, object_graph_tensor, options, update_ckpt_state)\u001b[0m\n\u001b[0;32m   1293\u001b[0m   \u001b[39mreturn\u001b[39;00m \u001b[39mself\u001b[39m\u001b[39m.\u001b[39m_cached_save_operation, feed_additions\n\u001b[0;32m   1295\u001b[0m \u001b[39m# Execute the normal checkpoint, i.e., synchronous.\u001b[39;00m\n\u001b[1;32m-> 1296\u001b[0m \u001b[39mreturn\u001b[39;00m _run_save()\n",
            "File \u001b[1;32mc:\\Users\\sunne\\anaconda3\\envs\\tfgpu\\lib\\site-packages\\tensorflow\\python\\checkpoint\\checkpoint.py:1239\u001b[0m, in \u001b[0;36mTrackableSaver._save_cached_when_graph_building.<locals>._run_save\u001b[1;34m()\u001b[0m\n\u001b[0;32m   1231\u001b[0m \u001b[39mif\u001b[39;00m (\u001b[39mself\u001b[39m\u001b[39m.\u001b[39m_last_save_object_graph \u001b[39m!=\u001b[39m graph_proto\n\u001b[0;32m   1232\u001b[0m     \u001b[39m# When executing eagerly, we need to re-create SaveableObjects each\u001b[39;00m\n\u001b[0;32m   1233\u001b[0m     \u001b[39m# time save() is called so they pick up new Tensors passed to their\u001b[39;00m\n\u001b[0;32m   1234\u001b[0m     \u001b[39m# constructors. That means the Saver needs to be copied with a new\u001b[39;00m\n\u001b[0;32m   1235\u001b[0m     \u001b[39m# var_list.\u001b[39;00m\n\u001b[0;32m   1236\u001b[0m     \u001b[39mor\u001b[39;00m context\u001b[39m.\u001b[39mexecuting_eagerly() \u001b[39mor\u001b[39;00m ops\u001b[39m.\u001b[39minside_function()):\n\u001b[0;32m   1237\u001b[0m   saver \u001b[39m=\u001b[39m functional_saver\u001b[39m.\u001b[39mMultiDeviceSaver(named_saveable_objects,\n\u001b[0;32m   1238\u001b[0m                                             registered_savers)\n\u001b[1;32m-> 1239\u001b[0m   save_op \u001b[39m=\u001b[39m saver\u001b[39m.\u001b[39;49msave(file_prefix, options\u001b[39m=\u001b[39;49moptions)\n\u001b[0;32m   1240\u001b[0m   \u001b[39mwith\u001b[39;00m ops\u001b[39m.\u001b[39mdevice(\u001b[39m\"\u001b[39m\u001b[39m/cpu:0\u001b[39m\u001b[39m\"\u001b[39m):\n\u001b[0;32m   1241\u001b[0m     \u001b[39mwith\u001b[39;00m ops\u001b[39m.\u001b[39mcontrol_dependencies([save_op]):\n",
            "File \u001b[1;32mc:\\Users\\sunne\\anaconda3\\envs\\tfgpu\\lib\\site-packages\\tensorflow\\python\\checkpoint\\functional_saver.py:362\u001b[0m, in \u001b[0;36mMultiDeviceSaver.save\u001b[1;34m(self, file_prefix, options)\u001b[0m\n\u001b[0;32m    360\u001b[0m   tf_function_save()\n\u001b[0;32m    361\u001b[0m \u001b[39melse\u001b[39;00m:\n\u001b[1;32m--> 362\u001b[0m   \u001b[39mreturn\u001b[39;00m save_fn()\n",
            "File \u001b[1;32mc:\\Users\\sunne\\anaconda3\\envs\\tfgpu\\lib\\site-packages\\tensorflow\\python\\checkpoint\\functional_saver.py:336\u001b[0m, in \u001b[0;36mMultiDeviceSaver.save.<locals>.save_fn\u001b[1;34m()\u001b[0m\n\u001b[0;32m    331\u001b[0m   saved_prefixes\u001b[39m.\u001b[39mappend(shard_prefix)\n\u001b[0;32m    332\u001b[0m   \u001b[39mwith\u001b[39;00m ops\u001b[39m.\u001b[39mdevice(device):\n\u001b[0;32m    333\u001b[0m     \u001b[39m# _SingleDeviceSaver will use the CPU device when necessary, but\u001b[39;00m\n\u001b[0;32m    334\u001b[0m     \u001b[39m# initial read operations should be placed on the SaveableObject's\u001b[39;00m\n\u001b[0;32m    335\u001b[0m     \u001b[39m# device.\u001b[39;00m\n\u001b[1;32m--> 336\u001b[0m     sharded_saves\u001b[39m.\u001b[39mappend(saver\u001b[39m.\u001b[39;49msave(shard_prefix, options))\n\u001b[0;32m    338\u001b[0m \u001b[39mwith\u001b[39;00m ops\u001b[39m.\u001b[39mcontrol_dependencies(sharded_saves):\n\u001b[0;32m    339\u001b[0m   \u001b[39m# Merge on the io_device if specified, otherwise co-locates the merge op\u001b[39;00m\n\u001b[0;32m    340\u001b[0m   \u001b[39m# with the last device used.\u001b[39;00m\n\u001b[0;32m    341\u001b[0m   merge_device \u001b[39m=\u001b[39m (\n\u001b[0;32m    342\u001b[0m       options\u001b[39m.\u001b[39mexperimental_io_device \u001b[39mor\u001b[39;00m\n\u001b[0;32m    343\u001b[0m       saveable_object_util\u001b[39m.\u001b[39mset_cpu0(last_device))\n",
            "File \u001b[1;32mc:\\Users\\sunne\\anaconda3\\envs\\tfgpu\\lib\\site-packages\\tensorflow\\python\\checkpoint\\functional_saver.py:79\u001b[0m, in \u001b[0;36m_SingleDeviceSaver.save\u001b[1;34m(self, file_prefix, options)\u001b[0m\n\u001b[0;32m     77\u001b[0m save_device \u001b[39m=\u001b[39m options\u001b[39m.\u001b[39mexperimental_io_device \u001b[39mor\u001b[39;00m \u001b[39m\"\u001b[39m\u001b[39mcpu:0\u001b[39m\u001b[39m\"\u001b[39m\n\u001b[0;32m     78\u001b[0m \u001b[39mwith\u001b[39;00m ops\u001b[39m.\u001b[39mdevice(save_device):\n\u001b[1;32m---> 79\u001b[0m   \u001b[39mreturn\u001b[39;00m io_ops\u001b[39m.\u001b[39;49msave_v2(file_prefix, tensor_names, tensor_slices, tensors)\n",
            "File \u001b[1;32mc:\\Users\\sunne\\anaconda3\\envs\\tfgpu\\lib\\site-packages\\tensorflow\\python\\ops\\gen_io_ops.py:1722\u001b[0m, in \u001b[0;36msave_v2\u001b[1;34m(prefix, tensor_names, shape_and_slices, tensors, name)\u001b[0m\n\u001b[0;32m   1720\u001b[0m   \u001b[39mpass\u001b[39;00m\n\u001b[0;32m   1721\u001b[0m \u001b[39mtry\u001b[39;00m:\n\u001b[1;32m-> 1722\u001b[0m   \u001b[39mreturn\u001b[39;00m save_v2_eager_fallback(\n\u001b[0;32m   1723\u001b[0m       prefix, tensor_names, shape_and_slices, tensors, name\u001b[39m=\u001b[39;49mname,\n\u001b[0;32m   1724\u001b[0m       ctx\u001b[39m=\u001b[39;49m_ctx)\n\u001b[0;32m   1725\u001b[0m \u001b[39mexcept\u001b[39;00m _core\u001b[39m.\u001b[39m_SymbolicException:\n\u001b[0;32m   1726\u001b[0m   \u001b[39mpass\u001b[39;00m  \u001b[39m# Add nodes to the TensorFlow graph.\u001b[39;00m\n",
            "File \u001b[1;32mc:\\Users\\sunne\\anaconda3\\envs\\tfgpu\\lib\\site-packages\\tensorflow\\python\\ops\\gen_io_ops.py:1743\u001b[0m, in \u001b[0;36msave_v2_eager_fallback\u001b[1;34m(prefix, tensor_names, shape_and_slices, tensors, name, ctx)\u001b[0m\n\u001b[0;32m   1741\u001b[0m _inputs_flat \u001b[39m=\u001b[39m [prefix, tensor_names, shape_and_slices] \u001b[39m+\u001b[39m \u001b[39mlist\u001b[39m(tensors)\n\u001b[0;32m   1742\u001b[0m _attrs \u001b[39m=\u001b[39m (\u001b[39m\"\u001b[39m\u001b[39mdtypes\u001b[39m\u001b[39m\"\u001b[39m, _attr_dtypes)\n\u001b[1;32m-> 1743\u001b[0m _result \u001b[39m=\u001b[39m _execute\u001b[39m.\u001b[39;49mexecute(\u001b[39mb\u001b[39;49m\u001b[39m\"\u001b[39;49m\u001b[39mSaveV2\u001b[39;49m\u001b[39m\"\u001b[39;49m, \u001b[39m0\u001b[39;49m, inputs\u001b[39m=\u001b[39;49m_inputs_flat, attrs\u001b[39m=\u001b[39;49m_attrs,\n\u001b[0;32m   1744\u001b[0m                            ctx\u001b[39m=\u001b[39;49mctx, name\u001b[39m=\u001b[39;49mname)\n\u001b[0;32m   1745\u001b[0m _result \u001b[39m=\u001b[39m \u001b[39mNone\u001b[39;00m\n\u001b[0;32m   1746\u001b[0m \u001b[39mreturn\u001b[39;00m _result\n",
            "File \u001b[1;32mc:\\Users\\sunne\\anaconda3\\envs\\tfgpu\\lib\\site-packages\\tensorflow\\python\\eager\\execute.py:54\u001b[0m, in \u001b[0;36mquick_execute\u001b[1;34m(op_name, num_outputs, inputs, attrs, ctx, name)\u001b[0m\n\u001b[0;32m     52\u001b[0m \u001b[39mtry\u001b[39;00m:\n\u001b[0;32m     53\u001b[0m   ctx\u001b[39m.\u001b[39mensure_initialized()\n\u001b[1;32m---> 54\u001b[0m   tensors \u001b[39m=\u001b[39m pywrap_tfe\u001b[39m.\u001b[39;49mTFE_Py_Execute(ctx\u001b[39m.\u001b[39;49m_handle, device_name, op_name,\n\u001b[0;32m     55\u001b[0m                                       inputs, attrs, num_outputs)\n\u001b[0;32m     56\u001b[0m \u001b[39mexcept\u001b[39;00m core\u001b[39m.\u001b[39m_NotOkStatusException \u001b[39mas\u001b[39;00m e:\n\u001b[0;32m     57\u001b[0m   \u001b[39mif\u001b[39;00m name \u001b[39mis\u001b[39;00m \u001b[39mnot\u001b[39;00m \u001b[39mNone\u001b[39;00m:\n",
            "\u001b[1;31mUnknownError\u001b[0m: {{function_node __wrapped__SaveV2_dtypes_318_device_/job:localhost/replica:0/task:0/device:CPU:0}} Failed to WriteFile: ./results\\checkpoint\\ckpt-136_temp/part-00000-of-00001.data-00000-of-00001.tempstate16454293570138759653 : There is not enough space on the disk.\r\n; operation in progress [Op:SaveV2]"
          ]
        }
      ],
      "source": [
        "with training_args.strategy.scope():\n",
        "    model = TFDistilBertForSequenceClassification.from_pretrained(\"distilbert-base-uncased\")\n",
        "\n",
        "trainer = TFTrainer(\n",
        "    model=model,                         # the instantiated 🤗 Transformers model to be trained\n",
        "    args=training_args,                  # training arguments, defined above\n",
        "    train_dataset=train_dataset,         # training dataset\n",
        "    eval_dataset=val_dataset,             # evaluation dataset\n",
        "   \n",
        ")\n",
        "\n",
        "trainer.train()"
      ]
    },
    {
      "cell_type": "code",
      "execution_count": 16,
      "metadata": {},
      "outputs": [
        {
          "name": "stdout",
          "output_type": "stream",
          "text": [
            "60000/60000 [==============================] - 700s 12ms/step\n"
          ]
        }
      ],
      "source": [
        "y_pred=model.predict(test_dataset)"
      ]
    },
    {
      "cell_type": "code",
      "execution_count": 17,
      "metadata": {},
      "outputs": [
        {
          "data": {
            "text/plain": [
              "TFSequenceClassifierOutput(loss=None, logits=array([[ 0.7840634 , -0.9796984 ],\n",
              "       [-0.01579132, -0.1339802 ],\n",
              "       [-0.02237193, -0.12863237],\n",
              "       ...,\n",
              "       [-1.0138199 ,  0.45003352],\n",
              "       [ 0.64735   , -0.82875735],\n",
              "       [ 0.03371293, -0.17347728]], dtype=float32), hidden_states=None, attentions=None)"
            ]
          },
          "execution_count": 17,
          "metadata": {},
          "output_type": "execute_result"
        }
      ],
      "source": [
        "y_pred"
      ]
    },
    {
      "cell_type": "code",
      "execution_count": 18,
      "metadata": {},
      "outputs": [],
      "source": [
        "y_pred=y_pred[0]"
      ]
    },
    {
      "cell_type": "code",
      "execution_count": 19,
      "metadata": {},
      "outputs": [],
      "source": [
        "# Create a mask for the condition (first element > second element)\n",
        "mask = y_pred[:, 0] < y_pred[:, 1]\n",
        "\n",
        "# Apply the mask to create the binary predictions\n",
        "y_pred = np.where(mask, 1,0)"
      ]
    },
    {
      "cell_type": "code",
      "execution_count": 20,
      "metadata": {},
      "outputs": [
        {
          "name": "stdout",
          "output_type": "stream",
          "text": [
            "----Confusion matrix---- \n",
            " \n",
            "[[22637  7291]\n",
            " [ 8660 21412]]\n",
            "\n",
            "Acccuracy Score : 0.73415\n",
            "\n",
            "              precision    recall  f1-score   support\n",
            "\n",
            "           0       0.72      0.76      0.74     29928\n",
            "           1       0.75      0.71      0.73     30072\n",
            "\n",
            "    accuracy                           0.73     60000\n",
            "   macro avg       0.73      0.73      0.73     60000\n",
            "weighted avg       0.73      0.73      0.73     60000\n",
            "\n"
          ]
        }
      ],
      "source": [
        "from sklearn import metrics\n",
        "\n",
        "def model_report(y_test,y_pred):\n",
        "    print(f'----Confusion matrix---- \\n \\n{metrics.confusion_matrix(y_test,y_pred)}\\n')\n",
        "    print(f'Acccuracy Score : {metrics.accuracy_score(y_test,y_pred)}\\n')\n",
        "    print(metrics.classification_report(y_test,y_pred))\n",
        "\n",
        "# y_test=df_test['target']\n",
        "model_report(y_test,y_pred)"
      ]
    },
    {
      "cell_type": "code",
      "execution_count": 21,
      "metadata": {
        "id": "okD5we1NwhQW"
      },
      "outputs": [],
      "source": [
        "trainer.save_model('senti_model')"
      ]
    },
    {
      "cell_type": "code",
      "execution_count": null,
      "metadata": {
        "id": "f9MbFGrEyNTS"
      },
      "outputs": [],
      "source": []
    }
  ],
  "metadata": {
    "accelerator": "GPU",
    "colab": {
      "machine_shape": "hm",
      "name": "Custom Sentiment Analysis.ipynb",
      "provenance": []
    },
    "kernelspec": {
      "display_name": "Python 3",
      "name": "python3"
    },
    "language_info": {
      "codemirror_mode": {
        "name": "ipython",
        "version": 3
      },
      "file_extension": ".py",
      "mimetype": "text/x-python",
      "name": "python",
      "nbconvert_exporter": "python",
      "pygments_lexer": "ipython3",
      "version": "3.10.12"
    },
    "widgets": {
      "application/vnd.jupyter.widget-state+json": {
        "04d8795812be4b838a3cbe0c3ffa6213": {
          "model_module": "@jupyter-widgets/base",
          "model_name": "LayoutModel",
          "state": {
            "_model_module": "@jupyter-widgets/base",
            "_model_module_version": "1.2.0",
            "_model_name": "LayoutModel",
            "_view_count": null,
            "_view_module": "@jupyter-widgets/base",
            "_view_module_version": "1.2.0",
            "_view_name": "LayoutView",
            "align_content": null,
            "align_items": null,
            "align_self": null,
            "border": null,
            "bottom": null,
            "display": null,
            "flex": null,
            "flex_flow": null,
            "grid_area": null,
            "grid_auto_columns": null,
            "grid_auto_flow": null,
            "grid_auto_rows": null,
            "grid_column": null,
            "grid_gap": null,
            "grid_row": null,
            "grid_template_areas": null,
            "grid_template_columns": null,
            "grid_template_rows": null,
            "height": null,
            "justify_content": null,
            "justify_items": null,
            "left": null,
            "margin": null,
            "max_height": null,
            "max_width": null,
            "min_height": null,
            "min_width": null,
            "object_fit": null,
            "object_position": null,
            "order": null,
            "overflow": null,
            "overflow_x": null,
            "overflow_y": null,
            "padding": null,
            "right": null,
            "top": null,
            "visibility": null,
            "width": null
          }
        },
        "079c262a15c34ee499cc7aab01e4f63d": {
          "model_module": "@jupyter-widgets/base",
          "model_name": "LayoutModel",
          "state": {
            "_model_module": "@jupyter-widgets/base",
            "_model_module_version": "1.2.0",
            "_model_name": "LayoutModel",
            "_view_count": null,
            "_view_module": "@jupyter-widgets/base",
            "_view_module_version": "1.2.0",
            "_view_name": "LayoutView",
            "align_content": null,
            "align_items": null,
            "align_self": null,
            "border": null,
            "bottom": null,
            "display": null,
            "flex": null,
            "flex_flow": null,
            "grid_area": null,
            "grid_auto_columns": null,
            "grid_auto_flow": null,
            "grid_auto_rows": null,
            "grid_column": null,
            "grid_gap": null,
            "grid_row": null,
            "grid_template_areas": null,
            "grid_template_columns": null,
            "grid_template_rows": null,
            "height": null,
            "justify_content": null,
            "justify_items": null,
            "left": null,
            "margin": null,
            "max_height": null,
            "max_width": null,
            "min_height": null,
            "min_width": null,
            "object_fit": null,
            "object_position": null,
            "order": null,
            "overflow": null,
            "overflow_x": null,
            "overflow_y": null,
            "padding": null,
            "right": null,
            "top": null,
            "visibility": null,
            "width": null
          }
        },
        "15912398841a42768b19ba8b000cd33d": {
          "model_module": "@jupyter-widgets/base",
          "model_name": "LayoutModel",
          "state": {
            "_model_module": "@jupyter-widgets/base",
            "_model_module_version": "1.2.0",
            "_model_name": "LayoutModel",
            "_view_count": null,
            "_view_module": "@jupyter-widgets/base",
            "_view_module_version": "1.2.0",
            "_view_name": "LayoutView",
            "align_content": null,
            "align_items": null,
            "align_self": null,
            "border": null,
            "bottom": null,
            "display": null,
            "flex": null,
            "flex_flow": null,
            "grid_area": null,
            "grid_auto_columns": null,
            "grid_auto_flow": null,
            "grid_auto_rows": null,
            "grid_column": null,
            "grid_gap": null,
            "grid_row": null,
            "grid_template_areas": null,
            "grid_template_columns": null,
            "grid_template_rows": null,
            "height": null,
            "justify_content": null,
            "justify_items": null,
            "left": null,
            "margin": null,
            "max_height": null,
            "max_width": null,
            "min_height": null,
            "min_width": null,
            "object_fit": null,
            "object_position": null,
            "order": null,
            "overflow": null,
            "overflow_x": null,
            "overflow_y": null,
            "padding": null,
            "right": null,
            "top": null,
            "visibility": null,
            "width": null
          }
        },
        "19c1ff45659147d6a6c73701cd04a457": {
          "model_module": "@jupyter-widgets/controls",
          "model_name": "FloatProgressModel",
          "state": {
            "_dom_classes": [],
            "_model_module": "@jupyter-widgets/controls",
            "_model_module_version": "1.5.0",
            "_model_name": "FloatProgressModel",
            "_view_count": null,
            "_view_module": "@jupyter-widgets/controls",
            "_view_module_version": "1.5.0",
            "_view_name": "ProgressView",
            "bar_style": "success",
            "description": "Downloading: 100%",
            "description_tooltip": null,
            "layout": "IPY_MODEL_079c262a15c34ee499cc7aab01e4f63d",
            "max": 28,
            "min": 0,
            "orientation": "horizontal",
            "style": "IPY_MODEL_1c6f95ef82774b918e8873427f431732",
            "value": 28
          }
        },
        "1c6f95ef82774b918e8873427f431732": {
          "model_module": "@jupyter-widgets/controls",
          "model_name": "ProgressStyleModel",
          "state": {
            "_model_module": "@jupyter-widgets/controls",
            "_model_module_version": "1.5.0",
            "_model_name": "ProgressStyleModel",
            "_view_count": null,
            "_view_module": "@jupyter-widgets/base",
            "_view_module_version": "1.2.0",
            "_view_name": "StyleView",
            "bar_color": null,
            "description_width": "initial"
          }
        },
        "2decd5779ade414d8680c5c5a48ea2ab": {
          "model_module": "@jupyter-widgets/controls",
          "model_name": "HTMLModel",
          "state": {
            "_dom_classes": [],
            "_model_module": "@jupyter-widgets/controls",
            "_model_module_version": "1.5.0",
            "_model_name": "HTMLModel",
            "_view_count": null,
            "_view_module": "@jupyter-widgets/controls",
            "_view_module_version": "1.5.0",
            "_view_name": "HTMLView",
            "description": "",
            "description_tooltip": null,
            "layout": "IPY_MODEL_04d8795812be4b838a3cbe0c3ffa6213",
            "placeholder": "​",
            "style": "IPY_MODEL_4b41472cec6146998f610e6d50f0c3d9",
            "value": " 466k/466k [00:46&lt;00:00, 10.0kB/s]"
          }
        },
        "33dde4a7859c48e1b28a972cbb66f168": {
          "model_module": "@jupyter-widgets/controls",
          "model_name": "HBoxModel",
          "state": {
            "_dom_classes": [],
            "_model_module": "@jupyter-widgets/controls",
            "_model_module_version": "1.5.0",
            "_model_name": "HBoxModel",
            "_view_count": null,
            "_view_module": "@jupyter-widgets/controls",
            "_view_module_version": "1.5.0",
            "_view_name": "HBoxView",
            "box_style": "",
            "children": [
              "IPY_MODEL_19c1ff45659147d6a6c73701cd04a457",
              "IPY_MODEL_92533d2577d04fd3a606f5bbfebe997f"
            ],
            "layout": "IPY_MODEL_15912398841a42768b19ba8b000cd33d"
          }
        },
        "3e20c2e2e90f4b7a8834061ddc521147": {
          "model_module": "@jupyter-widgets/controls",
          "model_name": "FloatProgressModel",
          "state": {
            "_dom_classes": [],
            "_model_module": "@jupyter-widgets/controls",
            "_model_module_version": "1.5.0",
            "_model_name": "FloatProgressModel",
            "_view_count": null,
            "_view_module": "@jupyter-widgets/controls",
            "_view_module_version": "1.5.0",
            "_view_name": "ProgressView",
            "bar_style": "success",
            "description": "Downloading: 100%",
            "description_tooltip": null,
            "layout": "IPY_MODEL_c5e03a3d8b16402a91bc7abbb1a32509",
            "max": 231508,
            "min": 0,
            "orientation": "horizontal",
            "style": "IPY_MODEL_dfd3a1dea41c4cc59091f8a205c9a622",
            "value": 231508
          }
        },
        "4b41472cec6146998f610e6d50f0c3d9": {
          "model_module": "@jupyter-widgets/controls",
          "model_name": "DescriptionStyleModel",
          "state": {
            "_model_module": "@jupyter-widgets/controls",
            "_model_module_version": "1.5.0",
            "_model_name": "DescriptionStyleModel",
            "_view_count": null,
            "_view_module": "@jupyter-widgets/base",
            "_view_module_version": "1.2.0",
            "_view_name": "StyleView",
            "description_width": ""
          }
        },
        "6ec38c7691be44b4913d6d5e0f76603c": {
          "model_module": "@jupyter-widgets/base",
          "model_name": "LayoutModel",
          "state": {
            "_model_module": "@jupyter-widgets/base",
            "_model_module_version": "1.2.0",
            "_model_name": "LayoutModel",
            "_view_count": null,
            "_view_module": "@jupyter-widgets/base",
            "_view_module_version": "1.2.0",
            "_view_name": "LayoutView",
            "align_content": null,
            "align_items": null,
            "align_self": null,
            "border": null,
            "bottom": null,
            "display": null,
            "flex": null,
            "flex_flow": null,
            "grid_area": null,
            "grid_auto_columns": null,
            "grid_auto_flow": null,
            "grid_auto_rows": null,
            "grid_column": null,
            "grid_gap": null,
            "grid_row": null,
            "grid_template_areas": null,
            "grid_template_columns": null,
            "grid_template_rows": null,
            "height": null,
            "justify_content": null,
            "justify_items": null,
            "left": null,
            "margin": null,
            "max_height": null,
            "max_width": null,
            "min_height": null,
            "min_width": null,
            "object_fit": null,
            "object_position": null,
            "order": null,
            "overflow": null,
            "overflow_x": null,
            "overflow_y": null,
            "padding": null,
            "right": null,
            "top": null,
            "visibility": null,
            "width": null
          }
        },
        "7601adb4afb447cb99a697c0a5b95fa5": {
          "model_module": "@jupyter-widgets/controls",
          "model_name": "HBoxModel",
          "state": {
            "_dom_classes": [],
            "_model_module": "@jupyter-widgets/controls",
            "_model_module_version": "1.5.0",
            "_model_name": "HBoxModel",
            "_view_count": null,
            "_view_module": "@jupyter-widgets/controls",
            "_view_module_version": "1.5.0",
            "_view_name": "HBoxView",
            "box_style": "",
            "children": [
              "IPY_MODEL_3e20c2e2e90f4b7a8834061ddc521147",
              "IPY_MODEL_bcad867ad46544d980cf600dfc4bd772"
            ],
            "layout": "IPY_MODEL_6ec38c7691be44b4913d6d5e0f76603c"
          }
        },
        "7de05784ffcf4f0aae1ee7e12e0fa269": {
          "model_module": "@jupyter-widgets/base",
          "model_name": "LayoutModel",
          "state": {
            "_model_module": "@jupyter-widgets/base",
            "_model_module_version": "1.2.0",
            "_model_name": "LayoutModel",
            "_view_count": null,
            "_view_module": "@jupyter-widgets/base",
            "_view_module_version": "1.2.0",
            "_view_name": "LayoutView",
            "align_content": null,
            "align_items": null,
            "align_self": null,
            "border": null,
            "bottom": null,
            "display": null,
            "flex": null,
            "flex_flow": null,
            "grid_area": null,
            "grid_auto_columns": null,
            "grid_auto_flow": null,
            "grid_auto_rows": null,
            "grid_column": null,
            "grid_gap": null,
            "grid_row": null,
            "grid_template_areas": null,
            "grid_template_columns": null,
            "grid_template_rows": null,
            "height": null,
            "justify_content": null,
            "justify_items": null,
            "left": null,
            "margin": null,
            "max_height": null,
            "max_width": null,
            "min_height": null,
            "min_width": null,
            "object_fit": null,
            "object_position": null,
            "order": null,
            "overflow": null,
            "overflow_x": null,
            "overflow_y": null,
            "padding": null,
            "right": null,
            "top": null,
            "visibility": null,
            "width": null
          }
        },
        "83e99b57d4884605b2cfde2c29981535": {
          "model_module": "@jupyter-widgets/controls",
          "model_name": "DescriptionStyleModel",
          "state": {
            "_model_module": "@jupyter-widgets/controls",
            "_model_module_version": "1.5.0",
            "_model_name": "DescriptionStyleModel",
            "_view_count": null,
            "_view_module": "@jupyter-widgets/base",
            "_view_module_version": "1.2.0",
            "_view_name": "StyleView",
            "description_width": ""
          }
        },
        "8c2a09d3aec44b6db0a667d9786ec86b": {
          "model_module": "@jupyter-widgets/base",
          "model_name": "LayoutModel",
          "state": {
            "_model_module": "@jupyter-widgets/base",
            "_model_module_version": "1.2.0",
            "_model_name": "LayoutModel",
            "_view_count": null,
            "_view_module": "@jupyter-widgets/base",
            "_view_module_version": "1.2.0",
            "_view_name": "LayoutView",
            "align_content": null,
            "align_items": null,
            "align_self": null,
            "border": null,
            "bottom": null,
            "display": null,
            "flex": null,
            "flex_flow": null,
            "grid_area": null,
            "grid_auto_columns": null,
            "grid_auto_flow": null,
            "grid_auto_rows": null,
            "grid_column": null,
            "grid_gap": null,
            "grid_row": null,
            "grid_template_areas": null,
            "grid_template_columns": null,
            "grid_template_rows": null,
            "height": null,
            "justify_content": null,
            "justify_items": null,
            "left": null,
            "margin": null,
            "max_height": null,
            "max_width": null,
            "min_height": null,
            "min_width": null,
            "object_fit": null,
            "object_position": null,
            "order": null,
            "overflow": null,
            "overflow_x": null,
            "overflow_y": null,
            "padding": null,
            "right": null,
            "top": null,
            "visibility": null,
            "width": null
          }
        },
        "92533d2577d04fd3a606f5bbfebe997f": {
          "model_module": "@jupyter-widgets/controls",
          "model_name": "HTMLModel",
          "state": {
            "_dom_classes": [],
            "_model_module": "@jupyter-widgets/controls",
            "_model_module_version": "1.5.0",
            "_model_name": "HTMLModel",
            "_view_count": null,
            "_view_module": "@jupyter-widgets/controls",
            "_view_module_version": "1.5.0",
            "_view_name": "HTMLView",
            "description": "",
            "description_tooltip": null,
            "layout": "IPY_MODEL_8c2a09d3aec44b6db0a667d9786ec86b",
            "placeholder": "​",
            "style": "IPY_MODEL_83e99b57d4884605b2cfde2c29981535",
            "value": " 28.0/28.0 [00:44&lt;00:00, 1.60s/B]"
          }
        },
        "ae9b502b1b9f4e13ad6e7dc448b02e88": {
          "model_module": "@jupyter-widgets/controls",
          "model_name": "FloatProgressModel",
          "state": {
            "_dom_classes": [],
            "_model_module": "@jupyter-widgets/controls",
            "_model_module_version": "1.5.0",
            "_model_name": "FloatProgressModel",
            "_view_count": null,
            "_view_module": "@jupyter-widgets/controls",
            "_view_module_version": "1.5.0",
            "_view_name": "ProgressView",
            "bar_style": "success",
            "description": "Downloading: 100%",
            "description_tooltip": null,
            "layout": "IPY_MODEL_7de05784ffcf4f0aae1ee7e12e0fa269",
            "max": 466062,
            "min": 0,
            "orientation": "horizontal",
            "style": "IPY_MODEL_b77b13cf1c7b4ad08c49d88a8808c2a2",
            "value": 466062
          }
        },
        "b77b13cf1c7b4ad08c49d88a8808c2a2": {
          "model_module": "@jupyter-widgets/controls",
          "model_name": "ProgressStyleModel",
          "state": {
            "_model_module": "@jupyter-widgets/controls",
            "_model_module_version": "1.5.0",
            "_model_name": "ProgressStyleModel",
            "_view_count": null,
            "_view_module": "@jupyter-widgets/base",
            "_view_module_version": "1.2.0",
            "_view_name": "StyleView",
            "bar_color": null,
            "description_width": "initial"
          }
        },
        "bcad867ad46544d980cf600dfc4bd772": {
          "model_module": "@jupyter-widgets/controls",
          "model_name": "HTMLModel",
          "state": {
            "_dom_classes": [],
            "_model_module": "@jupyter-widgets/controls",
            "_model_module_version": "1.5.0",
            "_model_name": "HTMLModel",
            "_view_count": null,
            "_view_module": "@jupyter-widgets/controls",
            "_view_module_version": "1.5.0",
            "_view_name": "HTMLView",
            "description": "",
            "description_tooltip": null,
            "layout": "IPY_MODEL_c28b1cff8e334240b14dec1137dd814b",
            "placeholder": "​",
            "style": "IPY_MODEL_e5b1d41caae5454a958e7341e74bd3f0",
            "value": " 232k/232k [01:21&lt;00:00, 2.83kB/s]"
          }
        },
        "c28b1cff8e334240b14dec1137dd814b": {
          "model_module": "@jupyter-widgets/base",
          "model_name": "LayoutModel",
          "state": {
            "_model_module": "@jupyter-widgets/base",
            "_model_module_version": "1.2.0",
            "_model_name": "LayoutModel",
            "_view_count": null,
            "_view_module": "@jupyter-widgets/base",
            "_view_module_version": "1.2.0",
            "_view_name": "LayoutView",
            "align_content": null,
            "align_items": null,
            "align_self": null,
            "border": null,
            "bottom": null,
            "display": null,
            "flex": null,
            "flex_flow": null,
            "grid_area": null,
            "grid_auto_columns": null,
            "grid_auto_flow": null,
            "grid_auto_rows": null,
            "grid_column": null,
            "grid_gap": null,
            "grid_row": null,
            "grid_template_areas": null,
            "grid_template_columns": null,
            "grid_template_rows": null,
            "height": null,
            "justify_content": null,
            "justify_items": null,
            "left": null,
            "margin": null,
            "max_height": null,
            "max_width": null,
            "min_height": null,
            "min_width": null,
            "object_fit": null,
            "object_position": null,
            "order": null,
            "overflow": null,
            "overflow_x": null,
            "overflow_y": null,
            "padding": null,
            "right": null,
            "top": null,
            "visibility": null,
            "width": null
          }
        },
        "c5e03a3d8b16402a91bc7abbb1a32509": {
          "model_module": "@jupyter-widgets/base",
          "model_name": "LayoutModel",
          "state": {
            "_model_module": "@jupyter-widgets/base",
            "_model_module_version": "1.2.0",
            "_model_name": "LayoutModel",
            "_view_count": null,
            "_view_module": "@jupyter-widgets/base",
            "_view_module_version": "1.2.0",
            "_view_name": "LayoutView",
            "align_content": null,
            "align_items": null,
            "align_self": null,
            "border": null,
            "bottom": null,
            "display": null,
            "flex": null,
            "flex_flow": null,
            "grid_area": null,
            "grid_auto_columns": null,
            "grid_auto_flow": null,
            "grid_auto_rows": null,
            "grid_column": null,
            "grid_gap": null,
            "grid_row": null,
            "grid_template_areas": null,
            "grid_template_columns": null,
            "grid_template_rows": null,
            "height": null,
            "justify_content": null,
            "justify_items": null,
            "left": null,
            "margin": null,
            "max_height": null,
            "max_width": null,
            "min_height": null,
            "min_width": null,
            "object_fit": null,
            "object_position": null,
            "order": null,
            "overflow": null,
            "overflow_x": null,
            "overflow_y": null,
            "padding": null,
            "right": null,
            "top": null,
            "visibility": null,
            "width": null
          }
        },
        "d40dbc875ca547edb0d09a07e3a84d26": {
          "model_module": "@jupyter-widgets/base",
          "model_name": "LayoutModel",
          "state": {
            "_model_module": "@jupyter-widgets/base",
            "_model_module_version": "1.2.0",
            "_model_name": "LayoutModel",
            "_view_count": null,
            "_view_module": "@jupyter-widgets/base",
            "_view_module_version": "1.2.0",
            "_view_name": "LayoutView",
            "align_content": null,
            "align_items": null,
            "align_self": null,
            "border": null,
            "bottom": null,
            "display": null,
            "flex": null,
            "flex_flow": null,
            "grid_area": null,
            "grid_auto_columns": null,
            "grid_auto_flow": null,
            "grid_auto_rows": null,
            "grid_column": null,
            "grid_gap": null,
            "grid_row": null,
            "grid_template_areas": null,
            "grid_template_columns": null,
            "grid_template_rows": null,
            "height": null,
            "justify_content": null,
            "justify_items": null,
            "left": null,
            "margin": null,
            "max_height": null,
            "max_width": null,
            "min_height": null,
            "min_width": null,
            "object_fit": null,
            "object_position": null,
            "order": null,
            "overflow": null,
            "overflow_x": null,
            "overflow_y": null,
            "padding": null,
            "right": null,
            "top": null,
            "visibility": null,
            "width": null
          }
        },
        "d80d5f04f004404c97502df6ccc5ec89": {
          "model_module": "@jupyter-widgets/controls",
          "model_name": "HBoxModel",
          "state": {
            "_dom_classes": [],
            "_model_module": "@jupyter-widgets/controls",
            "_model_module_version": "1.5.0",
            "_model_name": "HBoxModel",
            "_view_count": null,
            "_view_module": "@jupyter-widgets/controls",
            "_view_module_version": "1.5.0",
            "_view_name": "HBoxView",
            "box_style": "",
            "children": [
              "IPY_MODEL_ae9b502b1b9f4e13ad6e7dc448b02e88",
              "IPY_MODEL_2decd5779ade414d8680c5c5a48ea2ab"
            ],
            "layout": "IPY_MODEL_d40dbc875ca547edb0d09a07e3a84d26"
          }
        },
        "dfd3a1dea41c4cc59091f8a205c9a622": {
          "model_module": "@jupyter-widgets/controls",
          "model_name": "ProgressStyleModel",
          "state": {
            "_model_module": "@jupyter-widgets/controls",
            "_model_module_version": "1.5.0",
            "_model_name": "ProgressStyleModel",
            "_view_count": null,
            "_view_module": "@jupyter-widgets/base",
            "_view_module_version": "1.2.0",
            "_view_name": "StyleView",
            "bar_color": null,
            "description_width": "initial"
          }
        },
        "e5b1d41caae5454a958e7341e74bd3f0": {
          "model_module": "@jupyter-widgets/controls",
          "model_name": "DescriptionStyleModel",
          "state": {
            "_model_module": "@jupyter-widgets/controls",
            "_model_module_version": "1.5.0",
            "_model_name": "DescriptionStyleModel",
            "_view_count": null,
            "_view_module": "@jupyter-widgets/base",
            "_view_module_version": "1.2.0",
            "_view_name": "StyleView",
            "description_width": ""
          }
        }
      }
    }
  },
  "nbformat": 4,
  "nbformat_minor": 0
}
